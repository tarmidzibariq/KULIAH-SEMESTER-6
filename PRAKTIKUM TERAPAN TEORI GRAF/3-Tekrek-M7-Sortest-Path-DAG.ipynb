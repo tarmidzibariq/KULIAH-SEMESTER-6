{
 "cells": [
  {
   "cell_type": "code",
   "execution_count": null,
   "id": "b9c83ac8",
   "metadata": {
    "id": "b9c83ac8"
   },
   "outputs": [],
   "source": [
    "import sys"
   ]
  },
  {
   "cell_type": "code",
   "execution_count": null,
   "id": "a47f532a",
   "metadata": {
    "id": "a47f532a"
   },
   "outputs": [],
   "source": [
    "class Graph:\n",
    "    # Constructor\n",
    "    def __init__(self, edges, n):\n",
    "\n",
    "        # A list of lists to represent an adjacency list\n",
    "        self.adjList = [[] for _ in range(n)]\n",
    "\n",
    "        # add edges to the directed graph\n",
    "        for (source, dest, weight) in edges:\n",
    "            self.adjList[source].append((dest, weight))\n",
    "\n",
    "\n",
    "# Perform DFS on the graph and set the departure time of all vertices of the graph"
   ]
  },
  {
   "cell_type": "code",
   "execution_count": null,
   "id": "9d308399",
   "metadata": {
    "id": "9d308399"
   },
   "outputs": [],
   "source": [
    "def DFS(graph, v, discovered, departure, time):\n",
    "\n",
    "    # mark the current node as discovered\n",
    "    discovered[v] = True\n",
    "\n",
    "    # set arrival time – not needed\n",
    "    # time = time + 1\n",
    "\n",
    "    # do for every edge (v, u)\n",
    "    for (u, w) in graph.adjList[v]:\n",
    "        # if `u` is not yet discovered\n",
    "        if not discovered[u]:\n",
    "            time = DFS(graph, u, discovered, departure, time)\n",
    "\n",
    "    # ready to backtrack\n",
    "    # set departure time of vertex `v`\n",
    "    departure[time] = v\n",
    "\n",
    "    time = time + 1\n",
    "    return time"
   ]
  },
  {
   "cell_type": "code",
   "execution_count": null,
   "id": "000fd13d",
   "metadata": {
    "id": "000fd13d"
   },
   "outputs": [],
   "source": [
    "# The function performs the topological sort on a given DAG and then finds\n",
    "# the longest distance of all vertices from the given source by running one pass\n",
    "# of the Bellman–Ford algorithm on edges of vertices in topological order\n",
    "def findShortestDistance(graph, source, n):\n",
    "\n",
    "    # `departure` stores the vertex number using departure time as an index\n",
    "    departure = [-1] * n\n",
    "\n",
    "    # to keep track of whether a vertex is discovered or not\n",
    "    discovered = [False] * n\n",
    "    time = 0\n",
    "\n",
    "    # perform DFS on all undiscovered vertices\n",
    "    for i in range(n):\n",
    "        if not discovered[i]:\n",
    "            time = DFS(graph, i, discovered, departure, time)\n",
    "\n",
    "    cost = [sys.maxsize] * n\n",
    "    cost[source] = 0\n",
    "\n",
    "    # Process the vertices in topological order, i.e., in order\n",
    "    # of their decreasing departure time in DFS\n",
    "    for i in reversed(range(n)):\n",
    "\n",
    "        # for each vertex in topological order, relax the cost of its adjacent vertices\n",
    "        v = departure[i]\n",
    "\n",
    "        # edge from `v` to `u` having weight `w`\n",
    "        for (u, w) in graph.adjList[v]:\n",
    "            # if the distance to destination `u` can be shortened by\n",
    "            # taking edge (v, u), update cost to the new lower value\n",
    "            if cost[v] != sys.maxsize and cost[v] + w < cost[u]:\n",
    "                cost[u] = cost[v] + w\n",
    "\n",
    "    # print shortest paths\n",
    "    for i in range(n):\n",
    "        print(f'dist({source}, {i}) = {cost[i]}')"
   ]
  },
  {
   "cell_type": "code",
   "execution_count": null,
   "id": "8b93de7e",
   "metadata": {
    "id": "8b93de7e",
    "outputId": "05933f69-bffc-4d39-dba0-ae0c6b6aea47"
   },
   "outputs": [
    {
     "name": "stdout",
     "output_type": "stream",
     "text": [
      "dist(7, 0) = 6\n",
      "dist(7, 1) = -2\n",
      "dist(7, 2) = -6\n",
      "dist(7, 3) = 4\n",
      "dist(7, 4) = -1\n",
      "dist(7, 5) = -4\n",
      "dist(7, 6) = 6\n",
      "dist(7, 7) = 0\n"
     ]
    }
   ],
   "source": [
    "if __name__ == '__main__':\n",
    "\n",
    "    # List of graph edges as per the above diagram\n",
    "    edges = [\n",
    "        (0, 6, 2), (1, 2, -4), (1, 4, 1), (1, 6, 8), (3, 0, 3), (3, 4, 5),\n",
    "        (5, 1, 2), (7, 0, 6), (7, 1, -1), (7, 3, 4), (7, 5, -4)\n",
    "    ]\n",
    "\n",
    "    # total number of nodes in the graph (labelled from 0 to 7)\n",
    "    n = 8\n",
    "\n",
    "    # build a graph from the given edges\n",
    "    graph = Graph(edges, n)\n",
    "\n",
    "    # source vertex\n",
    "    source = 7\n",
    "\n",
    "    # find the shortest distance of all vertices from the given source\n",
    "    findShortestDistance(graph, source, n)"
   ]
  },
  {
   "cell_type": "code",
   "execution_count": null,
   "id": "53e740e0",
   "metadata": {
    "id": "53e740e0"
   },
   "outputs": [],
   "source": []
  }
 ],
 "metadata": {
  "colab": {
   "provenance": []
  },
  "kernelspec": {
   "display_name": "Python 3 (ipykernel)",
   "language": "python",
   "name": "python3"
  },
  "language_info": {
   "codemirror_mode": {
    "name": "ipython",
    "version": 3
   },
   "file_extension": ".py",
   "mimetype": "text/x-python",
   "name": "python",
   "nbconvert_exporter": "python",
   "pygments_lexer": "ipython3",
   "version": "3.8.10"
  }
 },
 "nbformat": 4,
 "nbformat_minor": 5
}
