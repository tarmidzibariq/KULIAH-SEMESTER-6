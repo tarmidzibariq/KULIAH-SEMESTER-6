{
 "cells": [
  {
   "cell_type": "code",
   "execution_count": 1,
   "id": "b35cb4e1",
   "metadata": {},
   "outputs": [],
   "source": [
    "# Python3 implementation of the above approach\n",
    " \n",
    "# To create tree\n",
    "tree = {}\n",
    "path = []\n",
    "maxHeight, maxHeightNode = -1, -1\n",
    " \n",
    "# Function to store the path\n",
    "# from given vertex to the target\n",
    "# vertex in a vector path"
   ]
  },
  {
   "cell_type": "code",
   "execution_count": 2,
   "id": "d78eb255",
   "metadata": {},
   "outputs": [],
   "source": [
    "def getDiameterPath(vertex, targetVertex, parent, path):\n",
    "   \n",
    "    # If the target node is found,\n",
    "    # push it into path vector\n",
    "    if (vertex == targetVertex):\n",
    "        path.append(vertex)\n",
    "        return True\n",
    " \n",
    "    for i in range(len(tree[vertex])):\n",
    "        # To prevent visiting a\n",
    "        # node already visited\n",
    "        if (tree[vertex][i] == parent):\n",
    "            continue\n",
    " \n",
    "        # Recursive call to the neighbours\n",
    "        # of current node inorder\n",
    "        # to get the path\n",
    "        if (getDiameterPath(tree[vertex][i], targetVertex, vertex, path)):\n",
    "            path.append(vertex)\n",
    "            return True\n",
    "    return False"
   ]
  },
  {
   "cell_type": "code",
   "execution_count": 3,
   "id": "5e3a9b38",
   "metadata": {},
   "outputs": [],
   "source": [
    "# Function to obtain and return the\n",
    "# farthest node from a given vertex\n",
    "def farthestNode(vertex, parent, height):\n",
    "    global maxHeight, maxHeightNode\n",
    "    # If the current height is maximum\n",
    "    # so far, then save the current node\n",
    "    if (height > maxHeight):\n",
    "        maxHeight = height\n",
    "        maxHeightNode = vertex\n",
    " \n",
    "    # Iterate over all the neighbours\n",
    "    # of current node\n",
    "    if (vertex in tree):\n",
    "        for i in range(len(tree[vertex])):\n",
    "           \n",
    "            # This is to prevent visiting\n",
    "            # a already visited node\n",
    "            if (tree[vertex][i] == parent):\n",
    "                continue\n",
    "                 \n",
    "            # Next call will be at 1 height\n",
    "            # higher than our current height\n",
    "            farthestNode(tree[vertex][i], vertex, height + 1)"
   ]
  },
  {
   "cell_type": "code",
   "execution_count": 4,
   "id": "f5583f00",
   "metadata": {},
   "outputs": [],
   "source": [
    "# Function to add edges\n",
    "def addedge(a, b):\n",
    "    if (a not in tree):\n",
    "        tree[a] = []\n",
    " \n",
    "    tree[a].append(b)\n",
    " \n",
    "    if (b not in tree):\n",
    "        tree[b] = []\n",
    " \n",
    "    tree[b].append(a)"
   ]
  },
  {
   "cell_type": "code",
   "execution_count": 5,
   "id": "f99ff418",
   "metadata": {},
   "outputs": [],
   "source": [
    "def FindCenter(n):\n",
    "    # Now we will find the 1st farthest\n",
    "    # node from 0(any arbitrary node)\n",
    " \n",
    "    # Perform DFS from 0 and update\n",
    "    # the maxHeightNode to obtain\n",
    "    # the farthest node from 0\n",
    " \n",
    "    # Reset to -1\n",
    "    maxHeight = -1\n",
    " \n",
    "    # Reset to -1\n",
    "    maxHeightNode = -1\n",
    " \n",
    "    farthestNode(0, -1, 0)\n",
    " \n",
    "    # Stores one end of the diameter\n",
    "    leaf1 = maxHeightNode\n",
    " \n",
    "    # Similarly the other end of\n",
    "    # the diameter\n",
    " \n",
    "    # Reset the maxHeight\n",
    "    maxHeight = -1\n",
    "    farthestNode(maxHeightNode, -1, 0)\n",
    " \n",
    "    # Stores the second end\n",
    "    # of the diameter\n",
    "    leaf2 = maxHeightNode\n",
    " \n",
    "    # Store the diameter into\n",
    "    # the vector path\n",
    "    path = []\n",
    " \n",
    "    # Diameter is equal to the\n",
    "    # path between the two farthest\n",
    "    # nodes leaf1 and leaf2\n",
    "    getDiameterPath(leaf1, leaf2, -1, path)\n",
    " \n",
    "    pathSize = len(path)\n",
    " \n",
    "    if (pathSize % 2 == 1):\n",
    "        print(path[int(pathSize / 2)]*-1)\n",
    "    else:\n",
    "        print(path[int(pathSize / 2)], \", \", path[int((pathSize - 1) / 2)], sep = \"\", end = \"\")"
   ]
  },
  {
   "cell_type": "code",
   "execution_count": 6,
   "id": "f1cf4c4c",
   "metadata": {},
   "outputs": [
    {
     "name": "stdout",
     "output_type": "stream",
     "text": [
      "1\n"
     ]
    }
   ],
   "source": [
    "N = 4\n",
    "\n",
    "tree = {}\n",
    "addedge(1, 0)\n",
    "addedge(1, 2)\n",
    "addedge(1, 3)\n",
    " \n",
    "FindCenter(N)\n",
    " \n",
    "# This code is contributed by suresh07."
   ]
  },
  {
   "cell_type": "code",
   "execution_count": null,
   "id": "40463291",
   "metadata": {},
   "outputs": [],
   "source": []
  }
 ],
 "metadata": {
  "kernelspec": {
   "display_name": "Python 3 (ipykernel)",
   "language": "python",
   "name": "python3"
  },
  "language_info": {
   "codemirror_mode": {
    "name": "ipython",
    "version": 3
   },
   "file_extension": ".py",
   "mimetype": "text/x-python",
   "name": "python",
   "nbconvert_exporter": "python",
   "pygments_lexer": "ipython3",
   "version": "3.8.10"
  }
 },
 "nbformat": 4,
 "nbformat_minor": 5
}
